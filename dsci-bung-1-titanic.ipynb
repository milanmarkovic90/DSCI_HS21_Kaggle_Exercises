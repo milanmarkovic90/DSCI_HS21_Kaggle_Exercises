{
 "cells": [
  {
   "cell_type": "markdown",
   "id": "74ae3cfe",
   "metadata": {
    "papermill": {
     "duration": 0.028015,
     "end_time": "2021-11-10T22:48:19.569722",
     "exception": false,
     "start_time": "2021-11-10T22:48:19.541707",
     "status": "completed"
    },
    "tags": []
   },
   "source": [
    "# Grundlagen von Scikit-Learn und Machine Learning\n",
    "Nachdem Sie letztes Mal einige der Grundlegenden Data Science-Bibliotheken in Python kennengelernt haben, geht es heute um Visualisierungen des Lernerfolgs. Kurz als Rekapitulation:\n",
    "\n",
    "- Python ist unsere Programmiersprache und bietet Funktionen, Listen, For-Schleifen etc. Keyword-Argumente sind wichtig, sowie das Aufrufen von Methoden.\n",
    "- Numpy und Pandas sind Pakete für Container von Daten: `np.array` und `pd.DataFrame`. \n",
    "- Matplotlib erstellt Visualisierungen: `plt.plot(x,y)`\n",
    "\n",
    "In dieser Übung wollen wir eine erste Kaggle-Eingabe vornehmen. Dazu laden wir die Daten, trainieren einen Scikit-Learn-Klassifikator und erstellen die benötigte `submission.csv`-Datei. Sie lernen hier auch bereits Validierungskurven kennen- Visualisierungen welche helfen, die Hyperparameterwerte der Klassifikatoren sinnvoll und informiert zu wählen."
   ]
  },
  {
   "cell_type": "markdown",
   "id": "aa74b1d5",
   "metadata": {
    "papermill": {
     "duration": 0.026069,
     "end_time": "2021-11-10T22:48:19.623212",
     "exception": false,
     "start_time": "2021-11-10T22:48:19.597143",
     "status": "completed"
    },
    "tags": []
   },
   "source": [
    "# Hilfscode (Details später)\n",
    "Für den Moment überlesen Sie vielleicht diesen Abschnit erst mal. Vielleicht verstehen Sie schon was da passiert?"
   ]
  },
  {
   "cell_type": "code",
   "execution_count": 1,
   "id": "501e058a",
   "metadata": {
    "_kg_hide-input": false,
    "execution": {
     "iopub.execute_input": "2021-11-10T22:48:19.680168Z",
     "iopub.status.busy": "2021-11-10T22:48:19.679079Z",
     "iopub.status.idle": "2021-11-10T22:48:20.853050Z",
     "shell.execute_reply": "2021-11-10T22:48:20.853533Z",
     "shell.execute_reply.started": "2021-11-10T21:17:49.447148Z"
    },
    "papermill": {
     "duration": 1.204701,
     "end_time": "2021-11-10T22:48:20.853859",
     "exception": false,
     "start_time": "2021-11-10T22:48:19.649158",
     "status": "completed"
    },
    "tags": []
   },
   "outputs": [],
   "source": [
    "import pandas as pd\n",
    "from sklearn.impute import SimpleImputer\n",
    "from sklearn.preprocessing import LabelEncoder\n",
    "def import_data():\n",
    "    \"\"\"\n",
    "    Lade die Daten aus dem Kaggle-Competition-Verzeichnis, und erstelle die X und y-Variablen (Features und Zielvariable)\n",
    "    \"\"\"\n",
    "    dftrain = pd.read_csv('/kaggle/input/titanic-privat/train.csv',sep=',',index_col='Id')\n",
    "    Xtest = pd.read_csv('/kaggle/input/titanic-privat/test.csv',sep=',',index_col='Id')\n",
    "    Xtrain = dftrain.drop('survived',axis=1)\n",
    "    ytrain = dftrain.survived\n",
    "    return Xtrain, ytrain, Xtest\n",
    "\n",
    "def data_cleansing_and_preprocessing(Xtrain,Xtest):\n",
    "    \"\"\"\n",
    "    Vorverarbeitung: Feature Selection, Preprocessing (DecisionTrees verstehen nur nummerische Features)\n",
    "    Rückgabe: Xtrain und Xtest\n",
    "    \"\"\"\n",
    "    Xtrain['sex'] = Xtrain.sex.fillna(Xtrain['sex'].mode()[0])\n",
    "    Xtest['sex'] = Xtest.sex.fillna(Xtrain['sex'].mode()[0])\n",
    "    del Xtrain['cabin']\n",
    "    del Xtrain['ticket']\n",
    "    del Xtrain['name']\n",
    "    del Xtest['cabin']\n",
    "    del Xtest['ticket']\n",
    "    del Xtest['name']\n",
    "    numerische_features = ['fare','age']\n",
    "    qualitative_features = ['pclass','sex','sibsp','parch','embarked']#,'ticket','cabin'\n",
    "    \n",
    "    imp_n = SimpleImputer(strategy = 'median')\n",
    "    imp_n.fit(Xtrain[numerische_features])\n",
    "    imp_q = SimpleImputer(strategy = 'most_frequent')\n",
    "    imp_q.fit(Xtrain[qualitative_features])\n",
    "    \n",
    "    Xtrain[qualitative_features] = imp_q.fit_transform(Xtrain[qualitative_features])\n",
    "    Xtrain[numerische_features] = imp_n.fit_transform(Xtrain[numerische_features])\n",
    "    Xtest[qualitative_features] = imp_q.transform(Xtest[qualitative_features])\n",
    "    Xtest[numerische_features] = imp_n.transform(Xtest[numerische_features])\n",
    "    \n",
    "    le1 = LabelEncoder()\n",
    "    Xtrain['sex'] = le1.fit_transform(Xtrain['sex'])\n",
    "    Xtest['sex'] = le1.transform(Xtest['sex'])\n",
    "\n",
    "    le2 = LabelEncoder()\n",
    "\n",
    "    Xtrain['embarked'] = le2.fit_transform(Xtrain['embarked'])\n",
    "    Xtest['embarked'] = le2.transform(Xtest['embarked'])\n",
    "    \n",
    "    return Xtrain,Xtest\n",
    "\n",
    "import numpy as np\n",
    "import matplotlib.pyplot as plt\n",
    "from sklearn.model_selection import validation_curve\n",
    "\n",
    "def plot_validation_curve(Xtrain,ytrain,cv=10,clf=None):\n",
    "    \"\"\"\n",
    "    Zeichne eine Validierungskurve für clf (oder einen Entscheidungsbaum, wenn clf nicht angegeben wird).\n",
    "    \"\"\"\n",
    "    if clf is None:\n",
    "        clf = DecisionTreeClassifier()\n",
    "    param_range = np.logspace(0, 3, 50)\n",
    "    train_scores, test_scores = validation_curve(\n",
    "        clf, Xtrain, ytrain, param_name=\"max_depth\", param_range=param_range,cv=cv,scoring=\"accuracy\", n_jobs=1)\n",
    "    train_scores_mean = np.mean(train_scores, axis=1)\n",
    "    train_scores_std = np.std(train_scores, axis=1)\n",
    "    test_scores_mean = np.mean(test_scores, axis=1)\n",
    "    test_scores_std = np.std(test_scores, axis=1)\n",
    "    plt.title(f\"Parameterkurve für max_depth\\nTitanic-Datensatz mit Entscheidungsbaum,cv={cv}\")\n",
    "    plt.xlabel(r\"max_depth\")\n",
    "    plt.ylabel(\"Score\")\n",
    "    plt.ylim(0.0, 1.1)\n",
    "    lw = 2\n",
    "    plt.semilogx(param_range, train_scores_mean, label=\"Training score\",\n",
    "                 color=\"darkorange\", lw=lw)\n",
    "    plt.fill_between(param_range, train_scores_mean - train_scores_std,\n",
    "                     train_scores_mean + train_scores_std, alpha=0.2,\n",
    "                     color=\"darkorange\", lw=lw)\n",
    "    plt.semilogx(param_range, test_scores_mean, label=\"Cross-validation score\",\n",
    "                 color=\"navy\", lw=lw)\n",
    "    plt.fill_between(param_range, test_scores_mean - test_scores_std,\n",
    "                     test_scores_mean + test_scores_std, alpha=0.2,\n",
    "                     color=\"navy\", lw=lw)\n",
    "    plt.legend(loc=\"lower left\")"
   ]
  },
  {
   "cell_type": "markdown",
   "id": "fd8748f5",
   "metadata": {
    "papermill": {
     "duration": 0.025655,
     "end_time": "2021-11-10T22:48:20.906274",
     "exception": false,
     "start_time": "2021-11-10T22:48:20.880619",
     "status": "completed"
    },
    "tags": []
   },
   "source": [
    "Versuchen Sie, die nächsten Zeilen zu verstehen. Grob ist wohl klar was passiert. Aber z.B. die Grössen der Arrays (im Attribut `.shape` hinterlegt) sind instruktiv: "
   ]
  },
  {
   "cell_type": "code",
   "execution_count": 2,
   "id": "15bc9df6",
   "metadata": {
    "execution": {
     "iopub.execute_input": "2021-11-10T22:48:20.970146Z",
     "iopub.status.busy": "2021-11-10T22:48:20.967852Z",
     "iopub.status.idle": "2021-11-10T22:48:21.013501Z",
     "shell.execute_reply": "2021-11-10T22:48:21.014119Z",
     "shell.execute_reply.started": "2021-11-10T21:17:49.483665Z"
    },
    "papermill": {
     "duration": 0.078642,
     "end_time": "2021-11-10T22:48:21.014310",
     "exception": false,
     "start_time": "2021-11-10T22:48:20.935668",
     "status": "completed"
    },
    "tags": []
   },
   "outputs": [],
   "source": [
    "Xtrain, ytrain, Xtest = import_data()"
   ]
  },
  {
   "cell_type": "code",
   "execution_count": 3,
   "id": "987dde29",
   "metadata": {
    "execution": {
     "iopub.execute_input": "2021-11-10T22:48:21.071270Z",
     "iopub.status.busy": "2021-11-10T22:48:21.070616Z",
     "iopub.status.idle": "2021-11-10T22:48:21.077344Z",
     "shell.execute_reply": "2021-11-10T22:48:21.078031Z",
     "shell.execute_reply.started": "2021-11-10T21:17:49.555674Z"
    },
    "papermill": {
     "duration": 0.036918,
     "end_time": "2021-11-10T22:48:21.078418",
     "exception": false,
     "start_time": "2021-11-10T22:48:21.041500",
     "status": "completed"
    },
    "tags": []
   },
   "outputs": [
    {
     "data": {
      "text/plain": [
       "(891, 10)"
      ]
     },
     "execution_count": 3,
     "metadata": {},
     "output_type": "execute_result"
    }
   ],
   "source": [
    "Xtrain.shape        # Vorschlag: entkommentieren Sie das\n",
    "                    # Antwort: Die Trainingsdaten (Xtrain) bestehen aus 891 Zeilen und hat 10 Spalten."
   ]
  },
  {
   "cell_type": "code",
   "execution_count": 4,
   "id": "b012e7ff",
   "metadata": {
    "execution": {
     "iopub.execute_input": "2021-11-10T22:48:21.147844Z",
     "iopub.status.busy": "2021-11-10T22:48:21.144131Z",
     "iopub.status.idle": "2021-11-10T22:48:21.182658Z",
     "shell.execute_reply": "2021-11-10T22:48:21.181703Z",
     "shell.execute_reply.started": "2021-11-10T21:17:49.569304Z"
    },
    "papermill": {
     "duration": 0.077568,
     "end_time": "2021-11-10T22:48:21.182854",
     "exception": false,
     "start_time": "2021-11-10T22:48:21.105286",
     "status": "completed"
    },
    "tags": []
   },
   "outputs": [],
   "source": [
    "Xtrain,Xtest = data_cleansing_and_preprocessing(Xtrain,Xtest)"
   ]
  },
  {
   "cell_type": "markdown",
   "id": "38d4c570",
   "metadata": {
    "papermill": {
     "duration": 0.025996,
     "end_time": "2021-11-10T22:48:21.235087",
     "exception": false,
     "start_time": "2021-11-10T22:48:21.209091",
     "status": "completed"
    },
    "tags": []
   },
   "source": [
    "# Daten ansehen\n",
    "\n",
    "Input files ansehen. Die ersten 5 Zeilen."
   ]
  },
  {
   "cell_type": "code",
   "execution_count": 5,
   "id": "4d3844bf",
   "metadata": {
    "execution": {
     "iopub.execute_input": "2021-11-10T22:48:21.293987Z",
     "iopub.status.busy": "2021-11-10T22:48:21.293327Z",
     "iopub.status.idle": "2021-11-10T22:48:21.311052Z",
     "shell.execute_reply": "2021-11-10T22:48:21.311570Z",
     "shell.execute_reply.started": "2021-11-10T21:17:49.631047Z"
    },
    "papermill": {
     "duration": 0.049801,
     "end_time": "2021-11-10T22:48:21.311746",
     "exception": false,
     "start_time": "2021-11-10T22:48:21.261945",
     "status": "completed"
    },
    "tags": []
   },
   "outputs": [
    {
     "data": {
      "text/html": [
       "<div>\n",
       "<style scoped>\n",
       "    .dataframe tbody tr th:only-of-type {\n",
       "        vertical-align: middle;\n",
       "    }\n",
       "\n",
       "    .dataframe tbody tr th {\n",
       "        vertical-align: top;\n",
       "    }\n",
       "\n",
       "    .dataframe thead th {\n",
       "        text-align: right;\n",
       "    }\n",
       "</style>\n",
       "<table border=\"1\" class=\"dataframe\">\n",
       "  <thead>\n",
       "    <tr style=\"text-align: right;\">\n",
       "      <th></th>\n",
       "      <th>pclass</th>\n",
       "      <th>sex</th>\n",
       "      <th>age</th>\n",
       "      <th>sibsp</th>\n",
       "      <th>parch</th>\n",
       "      <th>fare</th>\n",
       "      <th>embarked</th>\n",
       "    </tr>\n",
       "    <tr>\n",
       "      <th>Id</th>\n",
       "      <th></th>\n",
       "      <th></th>\n",
       "      <th></th>\n",
       "      <th></th>\n",
       "      <th></th>\n",
       "      <th></th>\n",
       "      <th></th>\n",
       "    </tr>\n",
       "  </thead>\n",
       "  <tbody>\n",
       "    <tr>\n",
       "      <th>0</th>\n",
       "      <td>1.0</td>\n",
       "      <td>1</td>\n",
       "      <td>0.9167</td>\n",
       "      <td>1.0</td>\n",
       "      <td>2.0</td>\n",
       "      <td>151.5500</td>\n",
       "      <td>2</td>\n",
       "    </tr>\n",
       "    <tr>\n",
       "      <th>1</th>\n",
       "      <td>1.0</td>\n",
       "      <td>0</td>\n",
       "      <td>25.0000</td>\n",
       "      <td>1.0</td>\n",
       "      <td>2.0</td>\n",
       "      <td>151.5500</td>\n",
       "      <td>2</td>\n",
       "    </tr>\n",
       "    <tr>\n",
       "      <th>2</th>\n",
       "      <td>1.0</td>\n",
       "      <td>0</td>\n",
       "      <td>53.0000</td>\n",
       "      <td>2.0</td>\n",
       "      <td>0.0</td>\n",
       "      <td>51.4792</td>\n",
       "      <td>2</td>\n",
       "    </tr>\n",
       "    <tr>\n",
       "      <th>3</th>\n",
       "      <td>1.0</td>\n",
       "      <td>0</td>\n",
       "      <td>26.0000</td>\n",
       "      <td>0.0</td>\n",
       "      <td>0.0</td>\n",
       "      <td>78.8500</td>\n",
       "      <td>2</td>\n",
       "    </tr>\n",
       "    <tr>\n",
       "      <th>4</th>\n",
       "      <td>1.0</td>\n",
       "      <td>1</td>\n",
       "      <td>80.0000</td>\n",
       "      <td>0.0</td>\n",
       "      <td>0.0</td>\n",
       "      <td>30.0000</td>\n",
       "      <td>2</td>\n",
       "    </tr>\n",
       "  </tbody>\n",
       "</table>\n",
       "</div>"
      ],
      "text/plain": [
       "    pclass  sex      age  sibsp  parch      fare  embarked\n",
       "Id                                                        \n",
       "0      1.0    1   0.9167    1.0    2.0  151.5500         2\n",
       "1      1.0    0  25.0000    1.0    2.0  151.5500         2\n",
       "2      1.0    0  53.0000    2.0    0.0   51.4792         2\n",
       "3      1.0    0  26.0000    0.0    0.0   78.8500         2\n",
       "4      1.0    1  80.0000    0.0    0.0   30.0000         2"
      ]
     },
     "execution_count": 5,
     "metadata": {},
     "output_type": "execute_result"
    }
   ],
   "source": [
    "# Testdatensatz ansehen\n",
    "Xtest.head()"
   ]
  },
  {
   "cell_type": "code",
   "execution_count": 6,
   "id": "763e3cdf",
   "metadata": {
    "execution": {
     "iopub.execute_input": "2021-11-10T22:48:21.379299Z",
     "iopub.status.busy": "2021-11-10T22:48:21.373093Z",
     "iopub.status.idle": "2021-11-10T22:48:21.388429Z",
     "shell.execute_reply": "2021-11-10T22:48:21.389212Z",
     "shell.execute_reply.started": "2021-11-10T21:17:49.654666Z"
    },
    "papermill": {
     "duration": 0.049803,
     "end_time": "2021-11-10T22:48:21.389459",
     "exception": false,
     "start_time": "2021-11-10T22:48:21.339656",
     "status": "completed"
    },
    "tags": []
   },
   "outputs": [
    {
     "data": {
      "text/html": [
       "<div>\n",
       "<style scoped>\n",
       "    .dataframe tbody tr th:only-of-type {\n",
       "        vertical-align: middle;\n",
       "    }\n",
       "\n",
       "    .dataframe tbody tr th {\n",
       "        vertical-align: top;\n",
       "    }\n",
       "\n",
       "    .dataframe thead th {\n",
       "        text-align: right;\n",
       "    }\n",
       "</style>\n",
       "<table border=\"1\" class=\"dataframe\">\n",
       "  <thead>\n",
       "    <tr style=\"text-align: right;\">\n",
       "      <th></th>\n",
       "      <th>pclass</th>\n",
       "      <th>sex</th>\n",
       "      <th>age</th>\n",
       "      <th>sibsp</th>\n",
       "      <th>parch</th>\n",
       "      <th>fare</th>\n",
       "      <th>embarked</th>\n",
       "    </tr>\n",
       "    <tr>\n",
       "      <th>Id</th>\n",
       "      <th></th>\n",
       "      <th></th>\n",
       "      <th></th>\n",
       "      <th></th>\n",
       "      <th></th>\n",
       "      <th></th>\n",
       "      <th></th>\n",
       "    </tr>\n",
       "  </thead>\n",
       "  <tbody>\n",
       "    <tr>\n",
       "      <th>419</th>\n",
       "      <td>1.0</td>\n",
       "      <td>0</td>\n",
       "      <td>29.0</td>\n",
       "      <td>0.0</td>\n",
       "      <td>0.0</td>\n",
       "      <td>211.3375</td>\n",
       "      <td>2</td>\n",
       "    </tr>\n",
       "    <tr>\n",
       "      <th>420</th>\n",
       "      <td>1.0</td>\n",
       "      <td>0</td>\n",
       "      <td>2.0</td>\n",
       "      <td>1.0</td>\n",
       "      <td>2.0</td>\n",
       "      <td>151.5500</td>\n",
       "      <td>2</td>\n",
       "    </tr>\n",
       "    <tr>\n",
       "      <th>421</th>\n",
       "      <td>1.0</td>\n",
       "      <td>1</td>\n",
       "      <td>30.0</td>\n",
       "      <td>1.0</td>\n",
       "      <td>2.0</td>\n",
       "      <td>151.5500</td>\n",
       "      <td>2</td>\n",
       "    </tr>\n",
       "    <tr>\n",
       "      <th>422</th>\n",
       "      <td>1.0</td>\n",
       "      <td>1</td>\n",
       "      <td>48.0</td>\n",
       "      <td>0.0</td>\n",
       "      <td>0.0</td>\n",
       "      <td>26.5500</td>\n",
       "      <td>2</td>\n",
       "    </tr>\n",
       "    <tr>\n",
       "      <th>423</th>\n",
       "      <td>1.0</td>\n",
       "      <td>0</td>\n",
       "      <td>63.0</td>\n",
       "      <td>1.0</td>\n",
       "      <td>0.0</td>\n",
       "      <td>77.9583</td>\n",
       "      <td>2</td>\n",
       "    </tr>\n",
       "  </tbody>\n",
       "</table>\n",
       "</div>"
      ],
      "text/plain": [
       "     pclass  sex   age  sibsp  parch      fare  embarked\n",
       "Id                                                      \n",
       "419     1.0    0  29.0    0.0    0.0  211.3375         2\n",
       "420     1.0    0   2.0    1.0    2.0  151.5500         2\n",
       "421     1.0    1  30.0    1.0    2.0  151.5500         2\n",
       "422     1.0    1  48.0    0.0    0.0   26.5500         2\n",
       "423     1.0    0  63.0    1.0    0.0   77.9583         2"
      ]
     },
     "execution_count": 6,
     "metadata": {},
     "output_type": "execute_result"
    }
   ],
   "source": [
    "# Trainingsdatensatz ansehen\n",
    "Xtrain.head()\n",
    "# ytrain.head()"
   ]
  },
  {
   "cell_type": "markdown",
   "id": "15993087",
   "metadata": {
    "papermill": {
     "duration": 0.02914,
     "end_time": "2021-11-10T22:48:21.453463",
     "exception": false,
     "start_time": "2021-11-10T22:48:21.424323",
     "status": "completed"
    },
    "tags": []
   },
   "source": [
    "# 1. Versuch\n",
    "Hier instanziieren und trainieren wir einen Entscheidungsbaum."
   ]
  },
  {
   "cell_type": "code",
   "execution_count": 7,
   "id": "633d221a",
   "metadata": {
    "execution": {
     "iopub.execute_input": "2021-11-10T22:48:21.512960Z",
     "iopub.status.busy": "2021-11-10T22:48:21.512216Z",
     "iopub.status.idle": "2021-11-10T22:48:21.551998Z",
     "shell.execute_reply": "2021-11-10T22:48:21.552559Z",
     "shell.execute_reply.started": "2021-11-10T21:17:49.674429Z"
    },
    "papermill": {
     "duration": 0.071383,
     "end_time": "2021-11-10T22:48:21.552726",
     "exception": false,
     "start_time": "2021-11-10T22:48:21.481343",
     "status": "completed"
    },
    "tags": []
   },
   "outputs": [
    {
     "data": {
      "text/plain": [
       "DecisionTreeClassifier(max_depth=50)"
      ]
     },
     "execution_count": 7,
     "metadata": {},
     "output_type": "execute_result"
    }
   ],
   "source": [
    "from sklearn.tree import DecisionTreeClassifier\n",
    "clf = DecisionTreeClassifier(max_depth=50)\n",
    "clf.fit(Xtrain,ytrain)"
   ]
  },
  {
   "cell_type": "markdown",
   "id": "0f988ee3",
   "metadata": {
    "papermill": {
     "duration": 0.027405,
     "end_time": "2021-11-10T22:48:21.610337",
     "exception": false,
     "start_time": "2021-11-10T22:48:21.582932",
     "status": "completed"
    },
    "tags": []
   },
   "source": [
    "**Übung**: Nehmen Sie an statt des Decision Trees einen Randomforest. Stellen Sie das Keyword-Argument `n_estimators` und `max_depth` passend ein. Wie gehen Sie dafür vor?"
   ]
  },
  {
   "cell_type": "code",
   "execution_count": 8,
   "id": "2b2911f5",
   "metadata": {
    "execution": {
     "iopub.execute_input": "2021-11-10T22:48:21.669354Z",
     "iopub.status.busy": "2021-11-10T22:48:21.668719Z",
     "iopub.status.idle": "2021-11-10T22:48:21.872630Z",
     "shell.execute_reply": "2021-11-10T22:48:21.871403Z",
     "shell.execute_reply.started": "2021-11-10T21:17:49.704134Z"
    },
    "papermill": {
     "duration": 0.234714,
     "end_time": "2021-11-10T22:48:21.872805",
     "exception": false,
     "start_time": "2021-11-10T22:48:21.638091",
     "status": "completed"
    },
    "tags": []
   },
   "outputs": [],
   "source": [
    "from sklearn.ensemble import RandomForestClassifier\n",
    "\n",
    "# Wir erstellen einen RandomForest mit 100 Entscheidungsbäumen und einer Tiefe von max. 5.\n",
    "random_forest = RandomForestClassifier(n_estimators=100, max_depth=5, random_state=1)\n",
    "random_forest.fit(Xtrain, ytrain)\n",
    "predictions = random_forest.predict(Xtest)"
   ]
  },
  {
   "cell_type": "code",
   "execution_count": 9,
   "id": "e0011e07",
   "metadata": {
    "execution": {
     "iopub.execute_input": "2021-11-10T22:48:21.935969Z",
     "iopub.status.busy": "2021-11-10T22:48:21.935349Z",
     "iopub.status.idle": "2021-11-10T22:48:21.940661Z",
     "shell.execute_reply": "2021-11-10T22:48:21.941146Z",
     "shell.execute_reply.started": "2021-11-10T21:17:49.982394Z"
    },
    "papermill": {
     "duration": 0.040579,
     "end_time": "2021-11-10T22:48:21.941318",
     "exception": false,
     "start_time": "2021-11-10T22:48:21.900739",
     "status": "completed"
    },
    "tags": []
   },
   "outputs": [
    {
     "data": {
      "text/plain": [
       "0.9775533108866442"
      ]
     },
     "execution_count": 9,
     "metadata": {},
     "output_type": "execute_result"
    }
   ],
   "source": [
    "clf.score(Xtrain,ytrain)         # Was ist hier wohl mit Score gemeint? Raten Sie!"
   ]
  },
  {
   "cell_type": "code",
   "execution_count": 10,
   "id": "490c7051",
   "metadata": {
    "execution": {
     "iopub.execute_input": "2021-11-10T22:48:21.999816Z",
     "iopub.status.busy": "2021-11-10T22:48:21.999240Z",
     "iopub.status.idle": "2021-11-10T22:48:22.022845Z",
     "shell.execute_reply": "2021-11-10T22:48:22.023391Z",
     "shell.execute_reply.started": "2021-11-10T21:17:49.999187Z"
    },
    "papermill": {
     "duration": 0.054146,
     "end_time": "2021-11-10T22:48:22.023554",
     "exception": false,
     "start_time": "2021-11-10T22:48:21.969408",
     "status": "completed"
    },
    "tags": []
   },
   "outputs": [
    {
     "data": {
      "text/plain": [
       "0.8484848484848485"
      ]
     },
     "execution_count": 10,
     "metadata": {},
     "output_type": "execute_result"
    }
   ],
   "source": [
    "random_forest.score(Xtrain,ytrain)"
   ]
  },
  {
   "cell_type": "markdown",
   "id": "ed41b94e",
   "metadata": {
    "papermill": {
     "duration": 0.028348,
     "end_time": "2021-11-10T22:48:22.079762",
     "exception": false,
     "start_time": "2021-11-10T22:48:22.051414",
     "status": "completed"
    },
    "tags": []
   },
   "source": [
    "**Frage**: Was ist hier mit Score gemeint?  \n",
    "**Antwort**: Mit Score wird die Genauigkeit des erstellten Modells gemessen.   \n",
    "Mithilfe des DecisionTreeClassifiers: 97.75%  \n",
    "Mithilfe des RandomForestClassifiers: 84.84%"
   ]
  },
  {
   "cell_type": "markdown",
   "id": "2bd281b3",
   "metadata": {
    "papermill": {
     "duration": 0.027825,
     "end_time": "2021-11-10T22:48:22.136592",
     "exception": false,
     "start_time": "2021-11-10T22:48:22.108767",
     "status": "completed"
    },
    "tags": []
   },
   "source": [
    "Wir erstellen mit der trainierten Klassifikator-Instanz `clf` eine Vorhersage:"
   ]
  },
  {
   "cell_type": "code",
   "execution_count": 11,
   "id": "edd41a78",
   "metadata": {
    "execution": {
     "iopub.execute_input": "2021-11-10T22:48:22.198482Z",
     "iopub.status.busy": "2021-11-10T22:48:22.197916Z",
     "iopub.status.idle": "2021-11-10T22:48:22.215767Z",
     "shell.execute_reply": "2021-11-10T22:48:22.216329Z",
     "shell.execute_reply.started": "2021-11-10T21:17:50.03099Z"
    },
    "papermill": {
     "duration": 0.050695,
     "end_time": "2021-11-10T22:48:22.216511",
     "exception": false,
     "start_time": "2021-11-10T22:48:22.165816",
     "status": "completed"
    },
    "tags": []
   },
   "outputs": [],
   "source": [
    "# yhat = clf.predict(Xtrain)\n",
    "yhat = random_forest.predict(Xtest)\n",
    "yhat = yhat.astype('int')"
   ]
  },
  {
   "cell_type": "markdown",
   "id": "ac4f4d26",
   "metadata": {
    "papermill": {
     "duration": 0.027713,
     "end_time": "2021-11-10T22:48:22.272817",
     "exception": false,
     "start_time": "2021-11-10T22:48:22.245104",
     "status": "completed"
    },
    "tags": []
   },
   "source": [
    "**Übung**: Ist `yhat` ein eindimensionaler Vektor, oder eine zweidimensionale Matrix mit einer Zeile oder Spalte?  \n",
    "**Übung**: Wieviele Elemente hat yhat?"
   ]
  },
  {
   "cell_type": "code",
   "execution_count": 12,
   "id": "f201b86f",
   "metadata": {
    "execution": {
     "iopub.execute_input": "2021-11-10T22:48:22.332421Z",
     "iopub.status.busy": "2021-11-10T22:48:22.331758Z",
     "iopub.status.idle": "2021-11-10T22:48:22.336906Z",
     "shell.execute_reply": "2021-11-10T22:48:22.337406Z",
     "shell.execute_reply.started": "2021-11-10T21:17:50.055116Z"
    },
    "papermill": {
     "duration": 0.03611,
     "end_time": "2021-11-10T22:48:22.337598",
     "exception": false,
     "start_time": "2021-11-10T22:48:22.301488",
     "status": "completed"
    },
    "tags": []
   },
   "outputs": [
    {
     "data": {
      "text/plain": [
       "((418,), dtype('int64'), 418)"
      ]
     },
     "execution_count": 12,
     "metadata": {},
     "output_type": "execute_result"
    }
   ],
   "source": [
    "yhat.shape, yhat.dtype, yhat.size"
   ]
  },
  {
   "cell_type": "markdown",
   "id": "cd5f1491",
   "metadata": {
    "papermill": {
     "duration": 0.02792,
     "end_time": "2021-11-10T22:48:22.393409",
     "exception": false,
     "start_time": "2021-11-10T22:48:22.365489",
     "status": "completed"
    },
    "tags": []
   },
   "source": [
    "**Lösung**: yhat eindimensionaler Vektor, weil nur PassengerID aufgeführt werden und allenfalls die Daten überlebt oder nicht.  \n",
    "**Lösung**: yhat hat 418 Elemente."
   ]
  },
  {
   "cell_type": "markdown",
   "id": "1ce1c86c",
   "metadata": {
    "papermill": {
     "duration": 0.027609,
     "end_time": "2021-11-10T22:48:22.448909",
     "exception": false,
     "start_time": "2021-11-10T22:48:22.421300",
     "status": "completed"
    },
    "tags": []
   },
   "source": [
    "Als nächstes erstellen wir mit Pandas die Ausgabedatei. Ein Pandas Series-Objekt ist eine eindimensionale Datenstruktur, mit Namen und einem Index für jeden Wert. Die `.to_csv()`-Methode tut, was sie verspricht. Und hier auch genau in dem Format, wie wir es in den meisten Kaggle-Competitions brauchen. "
   ]
  },
  {
   "cell_type": "code",
   "execution_count": 13,
   "id": "3b99543f",
   "metadata": {
    "execution": {
     "iopub.execute_input": "2021-11-10T22:48:22.508032Z",
     "iopub.status.busy": "2021-11-10T22:48:22.507390Z",
     "iopub.status.idle": "2021-11-10T22:48:22.515982Z",
     "shell.execute_reply": "2021-11-10T22:48:22.516440Z",
     "shell.execute_reply.started": "2021-11-10T21:17:50.063449Z"
    },
    "papermill": {
     "duration": 0.039924,
     "end_time": "2021-11-10T22:48:22.516604",
     "exception": false,
     "start_time": "2021-11-10T22:48:22.476680",
     "status": "completed"
    },
    "tags": []
   },
   "outputs": [],
   "source": [
    "#yhat = np.array([1,1,0,1])\n",
    "yhat = pd.Series(yhat,name='survived')\n",
    "yhat.index.name='Id'\n",
    "yhat.to_csv('submission.csv')"
   ]
  },
  {
   "cell_type": "markdown",
   "id": "3c3a8fbc",
   "metadata": {
    "papermill": {
     "duration": 0.02753,
     "end_time": "2021-11-10T22:48:22.572277",
     "exception": false,
     "start_time": "2021-11-10T22:48:22.544747",
     "status": "completed"
    },
    "tags": []
   },
   "source": [
    "Als nächstes sollten Sie das Notebook Speichern, und die generierte submission.csv-Datei der Competition übermitteln."
   ]
  },
  {
   "cell_type": "markdown",
   "id": "74b51b07",
   "metadata": {
    "papermill": {
     "duration": 0.040894,
     "end_time": "2021-11-10T22:48:22.648977",
     "exception": false,
     "start_time": "2021-11-10T22:48:22.608083",
     "status": "completed"
    },
    "tags": []
   },
   "source": [
    "Score 1. Versuch:"
   ]
  },
  {
   "attachments": {
    "271ff696-db64-4a3b-b814-73283e2dd8e7.PNG": {
     "image/png": "[encoded data removed]"
    }
   },
   "cell_type": "markdown",
   "id": "a1f1cd92",
   "metadata": {
    "papermill": {
     "duration": 0.030258,
     "end_time": "2021-11-10T22:48:22.719236",
     "exception": false,
     "start_time": "2021-11-10T22:48:22.688978",
     "status": "completed"
    },
    "tags": []
   },
   "source": [
    "![Versuch1.PNG](attachment:271ff696-db64-4a3b-b814-73283e2dd8e7.PNG)"
   ]
  },
  {
   "cell_type": "markdown",
   "id": "3a65fed4",
   "metadata": {
    "papermill": {
     "duration": 0.028196,
     "end_time": "2021-11-10T22:48:22.777091",
     "exception": false,
     "start_time": "2021-11-10T22:48:22.748895",
     "status": "completed"
    },
    "tags": []
   },
   "source": [
    "# 2. Versuch\n",
    "Natürlich fragt es sich ob wir den richtigen Klassifikator mit den richtigen Hyperparameterwerten gewählt haben. Der folgende Code zeigt, wie wir verschiedene Hyperparameterwerte ausprobieren können. Für jeden Wert bestimmen wir einen Kreuzvalidierungs-Score: cv=10 heisst: Teile den Datensatz in 10 Teile, trainiere auf 9 davon und evaluiere auf dem verbleibenden (was 10 Mal gemacht werden kann). Mittle die erhaltenenen Scores und bestimme die Standardabweichung.\n",
    "\n",
    "**Übung**: Welche Tiefe des Entscheidungsbaums wählen Sie?"
   ]
  },
  {
   "cell_type": "code",
   "execution_count": 14,
   "id": "183d0a23",
   "metadata": {
    "execution": {
     "iopub.execute_input": "2021-11-10T22:48:22.837403Z",
     "iopub.status.busy": "2021-11-10T22:48:22.836752Z",
     "iopub.status.idle": "2021-11-10T22:48:23.724959Z",
     "shell.execute_reply": "2021-11-10T22:48:23.725591Z",
     "shell.execute_reply.started": "2021-11-10T21:17:50.083863Z"
    },
    "papermill": {
     "duration": 0.919761,
     "end_time": "2021-11-10T22:48:23.725856",
     "exception": false,
     "start_time": "2021-11-10T22:48:22.806095",
     "status": "completed"
    },
    "tags": []
   },
   "outputs": [
    {
     "name": "stdout",
     "output_type": "stream",
     "text": [
      "Tiefe 1:0.789+/-0.064\n",
      "Tiefe 2:0.716+/-0.129\n",
      "Tiefe 3:0.774+/-0.114\n",
      "Tiefe 4:0.775+/-0.089\n",
      "Tiefe 5:0.746+/-0.133\n",
      "Tiefe 6:0.756+/-0.092\n",
      "Tiefe 7:0.757+/-0.090\n",
      "Tiefe 8:0.747+/-0.080\n",
      "Tiefe 9:0.745+/-0.097\n",
      "Tiefe 10:0.751+/-0.083\n",
      "Tiefe 11:0.739+/-0.060\n",
      "Tiefe 12:0.743+/-0.057\n",
      "Tiefe 20:0.716+/-0.059\n",
      "Tiefe 200:0.712+/-0.054\n"
     ]
    }
   ],
   "source": [
    "from sklearn.model_selection import cross_val_score\n",
    "scores_list=[]\n",
    "for m in [1,2,3,4,5,6,7,8,9,10,11,12,20,200]:\n",
    "    clf = DecisionTreeClassifier(max_depth=m)\n",
    "    scores = cross_val_score(clf,Xtrain,ytrain,cv=10)\n",
    "    scores_list.append(scores)\n",
    "    print(f\"Tiefe {m}:{np.mean(scores):1.3f}+/-{np.std(scores):1.3f}\")"
   ]
  },
  {
   "cell_type": "markdown",
   "id": "6f5bffd7",
   "metadata": {
    "papermill": {
     "duration": 0.02854,
     "end_time": "2021-11-10T22:48:23.784573",
     "exception": false,
     "start_time": "2021-11-10T22:48:23.756033",
     "status": "completed"
    },
    "tags": []
   },
   "source": [
    "Die folgende Zeile ist nur eine von vielen Visualisierungsmöglichkeiten von Matplotlib. Verstehen Sie sie? Was bedeuten die orangen Balken, was die Whisker und die Kreise?"
   ]
  },
  {
   "cell_type": "code",
   "execution_count": 15,
   "id": "7c108621",
   "metadata": {
    "execution": {
     "iopub.execute_input": "2021-11-10T22:48:23.859895Z",
     "iopub.status.busy": "2021-11-10T22:48:23.858994Z",
     "iopub.status.idle": "2021-11-10T22:48:24.161038Z",
     "shell.execute_reply": "2021-11-10T22:48:24.160473Z",
     "shell.execute_reply.started": "2021-11-10T21:17:51.008169Z"
    },
    "papermill": {
     "duration": 0.347803,
     "end_time": "2021-11-10T22:48:24.161190",
     "exception": false,
     "start_time": "2021-11-10T22:48:23.813387",
     "status": "completed"
    },
    "tags": []
   },
   "outputs": [
    {
     "data": {
      "image/png": "[encoded data removed]",
      "text/plain": [
       "<Figure size 432x288 with 1 Axes>"
      ]
     },
     "metadata": {
      "needs_background": "light"
     },
     "output_type": "display_data"
    }
   ],
   "source": [
    "plt.boxplot(scores_list);"
   ]
  },
  {
   "cell_type": "markdown",
   "id": "6f47a470",
   "metadata": {
    "papermill": {
     "duration": 0.030644,
     "end_time": "2021-11-10T22:48:24.222639",
     "exception": false,
     "start_time": "2021-11-10T22:48:24.191995",
     "status": "completed"
    },
    "tags": []
   },
   "source": [
    "**Balken (Box)**: Entspricht dem Bereich, in dem die mittleren 50 % der Daten liegen.   \n",
    "**Orange Linie**: Median. 50% der Daten liegen auf der linken Seite des Striches. Die anderen 50% auf der rechten Seite.   \n",
    "**Whisker**: Fühler / Antenne. Definiert die Spannweite des Datensatzes. Max. 1.5fache des Interquartilsabstands.   \n",
    "**Kreise**: Ausreisser. Datensätze, welche sich weiter als das 1.5fache des Interquartilsabstandes befinden."
   ]
  },
  {
   "cell_type": "markdown",
   "id": "d7d21e99",
   "metadata": {
    "papermill": {
     "duration": 0.030951,
     "end_time": "2021-11-10T22:48:24.283023",
     "exception": false,
     "start_time": "2021-11-10T22:48:24.252072",
     "status": "completed"
    },
    "tags": []
   },
   "source": [
    "Die Validierungskurve ist Ihre wichtigste Visualisierung, um einen Hyperparameterwert zu bestimmen. Insbesondere können Sie an diesem Plot ablesen, wann Overfitting beginnt (dort, wo die orange und violette Kurven auseinander gehen). Overfitting sehen Sie daran, dass mit grösserer Modellkomplexität (grössere `max_depth`) die Validierungsgenauigkeit abnimmt."
   ]
  },
  {
   "cell_type": "code",
   "execution_count": 16,
   "id": "e50599c3",
   "metadata": {
    "execution": {
     "iopub.execute_input": "2021-11-10T22:48:24.371479Z",
     "iopub.status.busy": "2021-11-10T22:48:24.351022Z",
     "iopub.status.idle": "2021-11-10T22:48:36.574705Z",
     "shell.execute_reply": "2021-11-10T22:48:36.574239Z",
     "shell.execute_reply.started": "2021-11-10T21:17:51.376552Z"
    },
    "papermill": {
     "duration": 12.259825,
     "end_time": "2021-11-10T22:48:36.574883",
     "exception": false,
     "start_time": "2021-11-10T22:48:24.315058",
     "status": "completed"
    },
    "tags": []
   },
   "outputs": [
    {
     "data": {
      "image/png": "[encoded data removed]",
      "text/plain": [
       "<Figure size 432x288 with 1 Axes>"
      ]
     },
     "metadata": {
      "needs_background": "light"
     },
     "output_type": "display_data"
    }
   ],
   "source": [
    "plot_validation_curve(Xtrain,ytrain, cv=28)"
   ]
  },
  {
   "cell_type": "markdown",
   "id": "7857b6e1",
   "metadata": {
    "papermill": {
     "duration": 0.030008,
     "end_time": "2021-11-10T22:48:36.635822",
     "exception": false,
     "start_time": "2021-11-10T22:48:36.605814",
     "status": "completed"
    },
    "tags": []
   },
   "source": [
    "**zentrale Übung**: Wählen Sie in der nächsten Zeile einen geeigneten Wert für `max_depth`!"
   ]
  },
  {
   "cell_type": "code",
   "execution_count": 17,
   "id": "39e5f9f6",
   "metadata": {
    "execution": {
     "iopub.execute_input": "2021-11-10T22:48:36.702443Z",
     "iopub.status.busy": "2021-11-10T22:48:36.701845Z",
     "iopub.status.idle": "2021-11-10T22:48:36.703958Z",
     "shell.execute_reply": "2021-11-10T22:48:36.704407Z",
     "shell.execute_reply.started": "2021-11-10T21:18:04.381243Z"
    },
    "papermill": {
     "duration": 0.037405,
     "end_time": "2021-11-10T22:48:36.704561",
     "exception": false,
     "start_time": "2021-11-10T22:48:36.667156",
     "status": "completed"
    },
    "tags": []
   },
   "outputs": [],
   "source": [
    "clf = DecisionTreeClassifier(max_depth=2) #hier geeigneten Wert wählen"
   ]
  },
  {
   "cell_type": "markdown",
   "id": "45c4447a",
   "metadata": {
    "papermill": {
     "duration": 0.030123,
     "end_time": "2021-11-10T22:48:36.765128",
     "exception": false,
     "start_time": "2021-11-10T22:48:36.735005",
     "status": "completed"
    },
    "tags": []
   },
   "source": [
    "**Antwort**:   \n",
    "bei cv=28: Ab einer Tiefe des Entscheidungbaumes von 2 (oder auch 3) gehen die beiden Kurven am weitesten auseinander.   \n",
    "Somit wäre 2 (oder auch 3) geeignete Werte um die max. Tiefe des Entscheidungsbaumes zu bestimmen."
   ]
  },
  {
   "cell_type": "code",
   "execution_count": 18,
   "id": "14192eb3",
   "metadata": {
    "execution": {
     "iopub.execute_input": "2021-11-10T22:48:36.828454Z",
     "iopub.status.busy": "2021-11-10T22:48:36.827861Z",
     "iopub.status.idle": "2021-11-10T22:48:36.838503Z",
     "shell.execute_reply": "2021-11-10T22:48:36.839071Z",
     "shell.execute_reply.started": "2021-11-10T21:18:04.387146Z"
    },
    "papermill": {
     "duration": 0.043986,
     "end_time": "2021-11-10T22:48:36.839241",
     "exception": false,
     "start_time": "2021-11-10T22:48:36.795255",
     "status": "completed"
    },
    "tags": []
   },
   "outputs": [
    {
     "data": {
      "text/plain": [
       "array([1, 1, 1, 1, 0, 0, 1, 0, 0, 1, 0, 0, 1, 0, 0, 0, 0, 1, 0, 0, 1, 0,\n",
       "       0, 0, 1, 0, 0, 0, 1, 1, 1, 1, 1, 1, 1, 1, 0, 1, 1, 1, 0, 1, 1, 1,\n",
       "       0, 0, 1, 1, 0, 0, 0, 1, 0, 0, 1, 1, 0, 0, 1, 1, 1, 1, 0, 1, 1, 0,\n",
       "       0, 0, 0, 0, 0, 0, 1, 1, 0, 0, 0, 1, 1, 0, 0, 1, 0, 0, 1, 0, 1, 0,\n",
       "       0, 0, 0, 0, 0, 1, 1, 1, 0, 0, 1, 0, 1, 0, 0, 0, 1, 1, 0, 0, 1, 1,\n",
       "       1, 0, 1, 0, 1, 1, 0, 1, 0, 0, 1, 1, 1, 0, 0, 1, 0, 1, 1, 1, 0, 1,\n",
       "       1, 0, 0, 0, 0, 1, 0, 0, 0, 0, 0, 1, 0, 0, 1, 1, 0, 1, 0, 0, 0, 0,\n",
       "       0, 0, 0, 0, 0, 0, 1, 1, 1, 0, 1, 1, 0, 1, 0, 0, 0, 0, 1, 1, 1, 0,\n",
       "       0, 1, 0, 0, 1, 0, 1, 1, 1, 1, 0, 0, 0, 1, 1, 1, 1, 0, 1, 1, 0, 1,\n",
       "       0, 1, 1, 1, 0, 0, 0, 1, 0, 1, 0, 1, 1, 0, 1, 1, 0, 0, 1, 0, 1, 0,\n",
       "       1, 1, 0, 0, 0, 1, 0, 1, 0, 0, 0, 1, 0, 0, 0, 0, 0, 1, 0, 0, 0, 0,\n",
       "       0, 0, 1, 0, 0, 0, 1, 0, 0, 0, 0, 0, 0, 1, 0, 0, 0, 1, 1, 0, 0, 0,\n",
       "       0, 0, 1, 0, 0, 1, 1, 0, 1, 1, 0, 0, 1, 1, 0, 0, 0, 0, 0, 0, 0, 0,\n",
       "       1, 0, 0, 0, 1, 0, 0, 0, 0, 0, 0, 1, 1, 1, 1, 0, 0, 1, 0, 0, 1, 1,\n",
       "       0, 1, 0, 1, 1, 0, 0, 0, 0, 0, 0, 1, 1, 0, 0, 1, 0, 1, 0, 0, 0, 1,\n",
       "       0, 1, 0, 0, 1, 0, 1, 1, 0, 1, 0, 1, 1, 1, 1, 1, 0, 0, 0, 1, 1, 0,\n",
       "       0, 1, 1, 0, 1, 0, 0, 1, 0, 1, 1, 0, 1, 0, 0, 0, 0, 0, 0, 0, 0, 1,\n",
       "       0, 0, 0, 1, 1, 0, 0, 0, 0, 0, 0, 1, 0, 0, 1, 0, 1, 0, 0, 0, 0, 0,\n",
       "       1, 0, 0, 0, 0, 1, 1, 1, 0, 0, 1, 0, 0, 1, 0, 0, 0, 1, 1, 1, 0, 0])"
      ]
     },
     "execution_count": 18,
     "metadata": {},
     "output_type": "execute_result"
    }
   ],
   "source": [
    "clf.fit(Xtrain,ytrain)\n",
    "yhat = clf.predict(Xtest).astype('int')\n",
    "yhat"
   ]
  },
  {
   "cell_type": "code",
   "execution_count": 19,
   "id": "940abee2",
   "metadata": {
    "execution": {
     "iopub.execute_input": "2021-11-10T22:48:36.904440Z",
     "iopub.status.busy": "2021-11-10T22:48:36.903839Z",
     "iopub.status.idle": "2021-11-10T22:48:36.914107Z",
     "shell.execute_reply": "2021-11-10T22:48:36.914606Z",
     "shell.execute_reply.started": "2021-11-10T21:18:04.413294Z"
    },
    "papermill": {
     "duration": 0.044071,
     "end_time": "2021-11-10T22:48:36.914793",
     "exception": false,
     "start_time": "2021-11-10T22:48:36.870722",
     "status": "completed"
    },
    "tags": []
   },
   "outputs": [
    {
     "name": "stdout",
     "output_type": "stream",
     "text": [
      "digraph Tree {\n",
      "node [shape=box] ;\n",
      "0 [label=\"sex <= 0.5\\ngini = 0.473\\nsamples = 891\\nvalue = [549, 342]\\nclass = deceased\"] ;\n",
      "1 [label=\"pclass <= 2.5\\ngini = 0.375\\nsamples = 308\\nvalue = [77, 231]\\nclass = survived\"] ;\n",
      "0 -> 1 [labeldistance=2.5, labelangle=45, headlabel=\"True\"] ;\n",
      "2 [label=\"fare <= 22.0\\ngini = 0.142\\nsamples = 169\\nvalue = [13, 156]\\nclass = survived\"] ;\n",
      "1 -> 2 ;\n",
      "3 [label=\"gini = 0.353\\nsamples = 35\\nvalue = [8, 27]\\nclass = survived\"] ;\n",
      "2 -> 3 ;\n",
      "4 [label=\"gini = 0.072\\nsamples = 134\\nvalue = [5, 129]\\nclass = survived\"] ;\n",
      "2 -> 4 ;\n",
      "5 [label=\"fare <= 23.35\\ngini = 0.497\\nsamples = 139\\nvalue = [64, 75]\\nclass = survived\"] ;\n",
      "1 -> 5 ;\n",
      "6 [label=\"gini = 0.474\\nsamples = 119\\nvalue = [46, 73]\\nclass = survived\"] ;\n",
      "5 -> 6 ;\n",
      "7 [label=\"gini = 0.18\\nsamples = 20\\nvalue = [18, 2]\\nclass = deceased\"] ;\n",
      "5 -> 7 ;\n",
      "8 [label=\"age <= 13.5\\ngini = 0.308\\nsamples = 583\\nvalue = [472, 111]\\nclass = deceased\"] ;\n",
      "0 -> 8 [labeldistance=2.5, labelangle=-45, headlabel=\"False\"] ;\n",
      "9 [label=\"sibsp <= 2.5\\ngini = 0.484\\nsamples = 34\\nvalue = [14, 20]\\nclass = survived\"] ;\n",
      "8 -> 9 ;\n",
      "10 [label=\"gini = 0.227\\nsamples = 23\\nvalue = [3, 20]\\nclass = survived\"] ;\n",
      "9 -> 10 ;\n",
      "11 [label=\"gini = 0.0\\nsamples = 11\\nvalue = [11, 0]\\nclass = deceased\"] ;\n",
      "9 -> 11 ;\n",
      "12 [label=\"fare <= 26.269\\ngini = 0.277\\nsamples = 549\\nvalue = [458, 91]\\nclass = deceased\"] ;\n",
      "8 -> 12 ;\n",
      "13 [label=\"gini = 0.211\\nsamples = 418\\nvalue = [368, 50]\\nclass = deceased\"] ;\n",
      "12 -> 13 ;\n",
      "14 [label=\"gini = 0.43\\nsamples = 131\\nvalue = [90, 41]\\nclass = deceased\"] ;\n",
      "12 -> 14 ;\n",
      "}\n"
     ]
    }
   ],
   "source": [
    "from sklearn import tree\n",
    "clf = DecisionTreeClassifier(max_depth=3)\n",
    "clf.fit(Xtrain,ytrain)\n",
    "\n",
    "print(tree.export_graphviz(clf,feature_names=Xtrain.columns.tolist(),class_names=['deceased','survived']))"
   ]
  },
  {
   "cell_type": "markdown",
   "id": "7b9964df",
   "metadata": {
    "papermill": {
     "duration": 0.030444,
     "end_time": "2021-11-10T22:48:36.976319",
     "exception": false,
     "start_time": "2021-11-10T22:48:36.945875",
     "status": "completed"
    },
    "tags": []
   },
   "source": [
    "**Zur Übung 2 Ihrer Abgabe:** Wählen Sie einen geeigneten Entscheidungsbaum `clf` (Tiefe 1 ist nicht unbedingt ideal...). Geben Sie den GraphViz-Output z.B. in [https://edotor.net/](https://edotor.net/) ein, und interpretieren Sie die Visualisierung.  \n",
    "Gemäss `le1.classes_` (in `data_cleansing_and_preprocessing`) entspricht `sex=0` dem Wert `female`.\n"
   ]
  },
  {
   "attachments": {
    "e896c036-7921-49f6-9ec4-4914a36ee717.PNG": {
     "image/png": "[encoded data removed]"
    }
   },
   "cell_type": "markdown",
   "id": "01940a4f",
   "metadata": {
    "papermill": {
     "duration": 0.030728,
     "end_time": "2021-11-10T22:48:37.038644",
     "exception": false,
     "start_time": "2021-11-10T22:48:37.007916",
     "status": "completed"
    },
    "tags": []
   },
   "source": [
    "![Edotor.PNG](attachment:e896c036-7921-49f6-9ec4-4914a36ee717.PNG)"
   ]
  },
  {
   "cell_type": "markdown",
   "id": "5b46f94f",
   "metadata": {
    "papermill": {
     "duration": 0.032258,
     "end_time": "2021-11-10T22:48:37.102563",
     "exception": false,
     "start_time": "2021-11-10T22:48:37.070305",
     "status": "completed"
    },
    "tags": []
   },
   "source": [
    "**Interpretation der Visualisierung**:    \n",
    "In der Visualisierung oben lässt sich anhand des Desicion Trees erkennen, welche Typen von Passagieren das Unglück eher überleben und welche nicht.   \n",
    "1. Absatz: Frauen (sex <=0.5) überleben tendenziell eher das Titanic Unglück.\n",
    "2. Absatz. Linke Seite: Passagiere, weiblich, mit Klasse <= 2.5 (Eher 1. Klasse) überleben tendenziell eher das Unglück.\n",
    "2. Absatz. Rechte Seite: Passagiere, männlich, mit Alter <= 13.5 (Kinder) überleben tendenziell eher das Unglück.\n",
    "3. Absatz. Linke Seite: Passagiere, weiblich, mit Klasse <= 2.5 und mit Tarif <= 22.0 überleben tenenziell eher das Unglück.\n",
    "3. Absatz. Rechte Seite: Kinder (<=13.5 Jahre), männlich, mit <= 2.5 Geschwistern überleben tendenziell eher das Unglück."
   ]
  },
  {
   "cell_type": "markdown",
   "id": "b59ecd60",
   "metadata": {
    "papermill": {
     "duration": 0.030992,
     "end_time": "2021-11-10T22:48:37.165598",
     "exception": false,
     "start_time": "2021-11-10T22:48:37.134606",
     "status": "completed"
    },
    "tags": []
   },
   "source": [
    "**Teilaufgabe A**: Welche Eigenschaften der Passagiere haben ein Überleben der Titanic-Katastrophe begünstigt?:   \n",
    "Anhand des Entscheidungsbaumes in der oben gezeigten Visualisierung ist zu erkennen, dass weibliche Passagiere, vor allem diejenigen, welche in der 1. Klasse gereist sind und einen Passagiertarif von weniger als 22.00 gezahlt haben, eher das Unglück überlebt haben.\n",
    "Zudem lässt sich in der rechten Hälfte des Entscheidungsbaumes festhalten, dass männliche Passagiere, vor allem Kinder (jünger als 13.5 Jahre) und mit weniger als 3 Geschwister eher am Leben geblieben sind."
   ]
  },
  {
   "cell_type": "markdown",
   "id": "c5f0948f",
   "metadata": {
    "papermill": {
     "duration": 0.030793,
     "end_time": "2021-11-10T22:48:37.227717",
     "exception": false,
     "start_time": "2021-11-10T22:48:37.196924",
     "status": "completed"
    },
    "tags": []
   },
   "source": [
    "**Teilaufgabe B**: Erstellen Sie eine textuelle Paraphrase, wie das Modell Vorhersagen generiert.   \n",
    "Das vorliegende Modell generiert Vorhersagen mittels Entscheidungsbäumen. Mithilfe des Trainingsdatensatz wird ein Entscheidungsbaum kreeiert. Wie bereits oben beschrieben, werden je nach Feature (Geschlecht, Klasse, Alter, Anzahl Geschwister, Passagiertarif, usw.) einzelne Klassen gebildet. Der Gini-Index gibt dabei die Verteilung der Datensets bekannt.\n",
    "Anhang des Entscheidungsbaumen lässt sich optisch gut erkennen, welche Eigenschaften ein Überleben nicht begünstigt haben. In diesem Fall wären es die Eigenschaften: männlich, älter als 14 Jahre, tiefere Klasse (3., 4. usw.)\n"
   ]
  },
  {
   "cell_type": "markdown",
   "id": "7d4844a2",
   "metadata": {
    "papermill": {
     "duration": 0.030773,
     "end_time": "2021-11-10T22:48:37.289654",
     "exception": false,
     "start_time": "2021-11-10T22:48:37.258881",
     "status": "completed"
    },
    "tags": []
   },
   "source": [
    "**Teilaufgabe C**: Gehen Sie auf den Unterschied zwischen Korrelation und Kausalität ein. Was leistet diesbezüglich ein Entscheidungsbaum?   \n",
    "Der Entscheidungsbaum gibt bekannt, dass diverse Variabeln miteinander korrelieren, jedoch aber nicht einen kausalen Zusammenhang aufweisen müssen. Beispielsweise ist, wie im Entscheidungsbaum angegeben, die Korrelation zwischen Anzahl Geschwister und Alter problematisch. Laut dem Entscheidungsbaum haben Kinder (männlich, jünger als 14 Jahre) eine höhere Überlebenschance, indem sie weniger Geschwister aufweisen. Haben diese beide Variablen wirklich einen kausalen Zusammenhang oder werden hier evtl. nicht weitere Faktoren berücksichtigt? Der kausale Zusammenhang lässt sich anhand des Entscheidungbaumes nicht abschliessend untersuchen.\n"
   ]
  },
  {
   "cell_type": "markdown",
   "id": "197ab61c",
   "metadata": {
    "papermill": {
     "duration": 0.030647,
     "end_time": "2021-11-10T22:48:37.351395",
     "exception": false,
     "start_time": "2021-11-10T22:48:37.320748",
     "status": "completed"
    },
    "tags": []
   },
   "source": [
    "**Übung**: Nehmen Sie ihr verbessertes Modell, erstellen Sie wieder eine `submission.csv`-Datei und submitten Sie sie an die Kaggle-Competition."
   ]
  },
  {
   "cell_type": "code",
   "execution_count": 20,
   "id": "28b68138",
   "metadata": {
    "execution": {
     "iopub.execute_input": "2021-11-10T22:48:37.420173Z",
     "iopub.status.busy": "2021-11-10T22:48:37.419523Z",
     "iopub.status.idle": "2021-11-10T22:48:37.589428Z",
     "shell.execute_reply": "2021-11-10T22:48:37.589930Z"
    },
    "papermill": {
     "duration": 0.204373,
     "end_time": "2021-11-10T22:48:37.590115",
     "exception": false,
     "start_time": "2021-11-10T22:48:37.385742",
     "status": "completed"
    },
    "tags": []
   },
   "outputs": [],
   "source": [
    "from sklearn.ensemble import RandomForestClassifier\n",
    "\n",
    "# RandomForest Classifier mit 100 Entscheidungsbäumen und einer max. Tiefe von 3.\n",
    "random_forest = RandomForestClassifier(n_estimators=100, max_depth=3, random_state=1)\n",
    "random_forest.fit(Xtrain, ytrain)\n",
    "predictions = random_forest.predict(Xtest)"
   ]
  },
  {
   "cell_type": "code",
   "execution_count": 21,
   "id": "b382f242",
   "metadata": {
    "execution": {
     "iopub.execute_input": "2021-11-10T22:48:37.657091Z",
     "iopub.status.busy": "2021-11-10T22:48:37.656381Z",
     "iopub.status.idle": "2021-11-10T22:48:37.678942Z",
     "shell.execute_reply": "2021-11-10T22:48:37.679443Z"
    },
    "papermill": {
     "duration": 0.057541,
     "end_time": "2021-11-10T22:48:37.679616",
     "exception": false,
     "start_time": "2021-11-10T22:48:37.622075",
     "status": "completed"
    },
    "tags": []
   },
   "outputs": [
    {
     "data": {
      "text/plain": [
       "0.8170594837261503"
      ]
     },
     "execution_count": 21,
     "metadata": {},
     "output_type": "execute_result"
    }
   ],
   "source": [
    "random_forest.score(Xtrain,ytrain)"
   ]
  },
  {
   "cell_type": "code",
   "execution_count": 22,
   "id": "05a5b19f",
   "metadata": {
    "execution": {
     "iopub.execute_input": "2021-11-10T22:48:37.747287Z",
     "iopub.status.busy": "2021-11-10T22:48:37.746658Z",
     "iopub.status.idle": "2021-11-10T22:48:37.765016Z",
     "shell.execute_reply": "2021-11-10T22:48:37.764496Z"
    },
    "papermill": {
     "duration": 0.053027,
     "end_time": "2021-11-10T22:48:37.765170",
     "exception": false,
     "start_time": "2021-11-10T22:48:37.712143",
     "status": "completed"
    },
    "tags": []
   },
   "outputs": [],
   "source": [
    "yhat = random_forest.predict(Xtest)\n",
    "yhat = yhat.astype('int')"
   ]
  },
  {
   "cell_type": "code",
   "execution_count": 23,
   "id": "48f2da01",
   "metadata": {
    "execution": {
     "iopub.execute_input": "2021-11-10T22:48:37.831546Z",
     "iopub.status.busy": "2021-11-10T22:48:37.830997Z",
     "iopub.status.idle": "2021-11-10T22:48:37.837107Z",
     "shell.execute_reply": "2021-11-10T22:48:37.837631Z"
    },
    "papermill": {
     "duration": 0.040992,
     "end_time": "2021-11-10T22:48:37.837838",
     "exception": false,
     "start_time": "2021-11-10T22:48:37.796846",
     "status": "completed"
    },
    "tags": []
   },
   "outputs": [],
   "source": [
    "yhat = pd.Series(yhat,name='survived')\n",
    "yhat.index.name='Id'\n",
    "yhat.to_csv('submission.csv')"
   ]
  },
  {
   "cell_type": "markdown",
   "id": "78a20a7c",
   "metadata": {
    "papermill": {
     "duration": 0.03271,
     "end_time": "2021-11-10T22:48:37.902225",
     "exception": false,
     "start_time": "2021-11-10T22:48:37.869515",
     "status": "completed"
    },
    "tags": []
   },
   "source": [
    "Score 2. Versuch:"
   ]
  },
  {
   "attachments": {
    "7574f03f-6f58-49c3-ad1d-2423e47c5329.PNG": {
     "image/png": "[encoded data removed]"
    }
   },
   "cell_type": "markdown",
   "id": "e4aa9c94",
   "metadata": {
    "papermill": {
     "duration": 0.031875,
     "end_time": "2021-11-10T22:48:37.968592",
     "exception": false,
     "start_time": "2021-11-10T22:48:37.936717",
     "status": "completed"
    },
    "tags": []
   },
   "source": [
    "![Versuch2.PNG](attachment:7574f03f-6f58-49c3-ad1d-2423e47c5329.PNG)"
   ]
  }
 ],
 "metadata": {
  "kernelspec": {
   "display_name": "Python 3",
   "language": "python",
   "name": "python3"
  },
  "language_info": {
   "codemirror_mode": {
    "name": "ipython",
    "version": 3
   },
   "file_extension": ".py",
   "mimetype": "text/x-python",
   "name": "python",
   "nbconvert_exporter": "python",
   "pygments_lexer": "ipython3",
   "version": "3.7.10"
  },
  "papermill": {
   "default_parameters": {},
   "duration": 26.443229,
   "end_time": "2021-11-10T22:48:38.710361",
   "environment_variables": {},
   "exception": null,
   "input_path": "__notebook__.ipynb",
   "output_path": "__notebook__.ipynb",
   "parameters": {},
   "start_time": "2021-11-10T22:48:12.267132",
   "version": "2.3.3"
  }
 },
 "nbformat": 4,
 "nbformat_minor": 5
}
